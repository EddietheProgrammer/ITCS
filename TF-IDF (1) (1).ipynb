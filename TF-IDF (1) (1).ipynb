{
 "cells": [
  {
   "cell_type": "code",
   "execution_count": 1,
   "metadata": {},
   "outputs": [],
   "source": [
    "import pandas as pd\n",
    "import numpy as np\n",
    "from sklearn.feature_extraction.text import TfidfVectorizer\n",
    "\n",
    "from sklearn.model_selection import train_test_split\n",
    "from tensorflow.keras.preprocessing.text import Tokenizer\n",
    "from tensorflow.keras.preprocessing.sequence import pad_sequences\n",
    "from tensorflow.keras.models import Sequential\n",
    "from tensorflow.keras.layers import Embedding, LSTM, Dense\n",
    "from sklearn.metrics import classification_report, confusion_matrix\n",
    "from tensorflow.keras.models import load_model\n",
    "from sklearn.metrics import roc_auc_score, roc_curve, log_loss\n",
    "\n",
    "\n",
    "#import os\n",
    "#os.chdir('/Users/stephenrivas/Downloads')\n"
   ]
  },
  {
   "cell_type": "code",
   "execution_count": 2,
   "metadata": {},
   "outputs": [],
   "source": [
    "dfTrue = pd.read_csv('True.csv')"
   ]
  },
  {
   "cell_type": "code",
   "execution_count": 3,
   "metadata": {},
   "outputs": [],
   "source": [
    "#adding a column to the true csv file and setting it = to 1 for all rows\n",
    "dfTrue['True/Fake'] = 1"
   ]
  },
  {
   "cell_type": "code",
   "execution_count": 4,
   "metadata": {},
   "outputs": [],
   "source": [
    "dfFake = pd.read_csv('Fake.csv')"
   ]
  },
  {
   "cell_type": "code",
   "execution_count": 5,
   "metadata": {},
   "outputs": [],
   "source": [
    "#adding a column to the fake csv file and setting it = to 0 for all rows\n",
    "dfFake['True/Fake'] = 0"
   ]
  },
  {
   "cell_type": "code",
   "execution_count": 6,
   "metadata": {},
   "outputs": [],
   "source": [
    "#combining the csv files\n",
    "df_combined = pd.concat([dfTrue, dfFake], ignore_index=True)"
   ]
  },
  {
   "cell_type": "code",
   "execution_count": 7,
   "metadata": {},
   "outputs": [],
   "source": [
    "#saving to csv\n",
    "df_combined.to_csv('Combined_True_Fake.csv', index=False)"
   ]
  },
  {
   "cell_type": "code",
   "execution_count": 8,
   "metadata": {},
   "outputs": [
    {
     "data": {
      "text/plain": [
       "Index(['title', 'text', 'subject', 'date', 'True/Fake'], dtype='object')"
      ]
     },
     "execution_count": 8,
     "metadata": {},
     "output_type": "execute_result"
    }
   ],
   "source": [
    "df_combined.columns"
   ]
  },
  {
   "cell_type": "code",
   "execution_count": 9,
   "metadata": {},
   "outputs": [
    {
     "data": {
      "text/plain": [
       "(44898, 5)"
      ]
     },
     "execution_count": 9,
     "metadata": {},
     "output_type": "execute_result"
    }
   ],
   "source": [
    "df_combined.shape"
   ]
  },
  {
   "cell_type": "code",
   "execution_count": 10,
   "metadata": {},
   "outputs": [
    {
     "data": {
      "text/plain": [
       "title        0\n",
       "text         0\n",
       "subject      0\n",
       "date         0\n",
       "True/Fake    0\n",
       "dtype: int64"
      ]
     },
     "execution_count": 10,
     "metadata": {},
     "output_type": "execute_result"
    }
   ],
   "source": [
    "df_combined.isnull().sum()"
   ]
  },
  {
   "cell_type": "code",
   "execution_count": 11,
   "metadata": {},
   "outputs": [
    {
     "name": "stdout",
     "output_type": "stream",
     "text": [
      "<class 'pandas.core.frame.DataFrame'>\n",
      "RangeIndex: 44898 entries, 0 to 44897\n",
      "Data columns (total 5 columns):\n",
      " #   Column     Non-Null Count  Dtype \n",
      "---  ------     --------------  ----- \n",
      " 0   title      44898 non-null  object\n",
      " 1   text       44898 non-null  object\n",
      " 2   subject    44898 non-null  object\n",
      " 3   date       44898 non-null  object\n",
      " 4   True/Fake  44898 non-null  int64 \n",
      "dtypes: int64(1), object(4)\n",
      "memory usage: 1.7+ MB\n"
     ]
    }
   ],
   "source": [
    "df_combined.info()"
   ]
  },
  {
   "cell_type": "code",
   "execution_count": 12,
   "metadata": {},
   "outputs": [],
   "source": [
    "# Combine title, text, and subject into content for analaysis \n",
    "df_combined['content'] = df_combined['title'] + ' ' + df_combined['text'] + ' ' + df_combined['subject']"
   ]
  },
  {
   "cell_type": "code",
   "execution_count": 13,
   "metadata": {},
   "outputs": [],
   "source": [
    "# TF-IDF Vectorization, 5000 features, removes english common words \n",
    "tfidf = TfidfVectorizer(max_features=5000, stop_words='english')\n",
    "X_tfidf = tfidf.fit_transform(df_combined['content'])\n",
    "feature_names = np.array(tfidf.get_feature_names_out())"
   ]
  },
  {
   "cell_type": "code",
   "execution_count": 14,
   "metadata": {},
   "outputs": [],
   "source": [
    "# Split by True/Fake\n",
    "df_true = df_combined[df_combined['True/Fake'] == 1]\n",
    "df_fake = df_combined[df_combined['True/Fake'] == 0]"
   ]
  },
  {
   "cell_type": "code",
   "execution_count": 15,
   "metadata": {},
   "outputs": [],
   "source": [
    "# Compute TF-IDF scores for True and Fake\n",
    "true_tfidf = tfidf.transform(df_true['content']).mean(axis=0)\n",
    "fake_tfidf = tfidf.transform(df_fake['content']).mean(axis=0)"
   ]
  },
  {
   "cell_type": "code",
   "execution_count": 16,
   "metadata": {},
   "outputs": [],
   "source": [
    "# Get top keywords for each category\n",
    "top_n = 10  # Number of top keywords to extract\n",
    "true_keywords = feature_names[np.argsort(true_tfidf.A1)[-top_n:]]\n",
    "fake_keywords = feature_names[np.argsort(fake_tfidf.A1)[-top_n:]]"
   ]
  },
  {
   "cell_type": "code",
   "execution_count": 17,
   "metadata": {},
   "outputs": [
    {
     "name": "stdout",
     "output_type": "stream",
     "text": [
      "Top Keywords for 'True': ['said' 'trump' 'reuters' 'president' 'house' 'state' 'government'\n",
      " 'republican' 'politicsnews' 'washington']\n",
      "Top Keywords for 'Fake': ['trump' 'video' 'news' 'clinton' 'obama' 'hillary' 'people' 'president'\n",
      " 'just' 'said']\n"
     ]
    }
   ],
   "source": [
    "# Display results in reverse descending order to get most influntial first\n",
    "print(\"Top Keywords for 'True':\", true_keywords[::-1])  \n",
    "print(\"Top Keywords for 'Fake':\", fake_keywords[::-1])  "
   ]
  },
  {
   "cell_type": "code",
   "execution_count": 18,
   "metadata": {},
   "outputs": [],
   "source": [
    "y = df_combined['True/Fake']"
   ]
  },
  {
   "cell_type": "code",
   "execution_count": 19,
   "metadata": {},
   "outputs": [
    {
     "name": "stdout",
     "output_type": "stream",
     "text": [
      "Logistic Regression Accuracy: 0.9925760950259837\n",
      "Classification Report:               precision    recall  f1-score   support\n",
      "\n",
      "           0       1.00      0.99      0.99      6996\n",
      "           1       0.99      1.00      0.99      6474\n",
      "\n",
      "    accuracy                           0.99     13470\n",
      "   macro avg       0.99      0.99      0.99     13470\n",
      "weighted avg       0.99      0.99      0.99     13470\n",
      "\n"
     ]
    }
   ],
   "source": [
    "from sklearn.linear_model import LogisticRegression\n",
    "from sklearn.model_selection import train_test_split\n",
    "from sklearn.metrics import accuracy_score, classification_report\n",
    "\n",
    "X_train, X_test, y_train, y_test = train_test_split(X_tfidf, y, test_size=0.3, random_state=42)\n",
    "\n",
    "# Logistic Regression Model\n",
    "logit_model = LogisticRegression()\n",
    "logit_model.fit(X_train, y_train)\n",
    "\n",
    "y_pred_logit = logit_model.predict(X_test)\n",
    "print(\"Logistic Regression Accuracy:\", accuracy_score(y_test, y_pred_logit))\n",
    "print(\"Classification Report:\", classification_report(y_test, y_pred_logit))\n"
   ]
  },
  {
   "cell_type": "code",
   "execution_count": 20,
   "metadata": {},
   "outputs": [
    {
     "name": "stdout",
     "output_type": "stream",
     "text": [
      "Naive Bayes Accuracy: 0.9380103934669636\n",
      "Classification Report:               precision    recall  f1-score   support\n",
      "\n",
      "           0       0.94      0.94      0.94      6996\n",
      "           1       0.94      0.93      0.94      6474\n",
      "\n",
      "    accuracy                           0.94     13470\n",
      "   macro avg       0.94      0.94      0.94     13470\n",
      "weighted avg       0.94      0.94      0.94     13470\n",
      "\n"
     ]
    }
   ],
   "source": [
    "from sklearn.naive_bayes import MultinomialNB\n",
    "\n",
    "# Naive Bayes model\n",
    "nb_model = MultinomialNB()\n",
    "nb_model.fit(X_train, y_train)\n",
    "\n",
    "y_pred_nb = nb_model.predict(X_test)\n",
    "print(\"Naive Bayes Accuracy:\", accuracy_score(y_test, y_pred_nb))\n",
    "print(\"Classification Report:\", classification_report(y_test, y_pred_nb))\n"
   ]
  },
  {
   "cell_type": "code",
   "execution_count": 21,
   "metadata": {},
   "outputs": [
    {
     "data": {
      "image/png": "[encoded data removed]",
      "text/plain": [
       "<Figure size 640x480 with 2 Axes>"
      ]
     },
     "metadata": {},
     "output_type": "display_data"
    },
    {
     "data": {
      "image/png": "[encoded data removed]",
      "text/plain": [
       "<Figure size 640x480 with 2 Axes>"
      ]
     },
     "metadata": {},
     "output_type": "display_data"
    }
   ],
   "source": [
    "from sklearn.metrics import confusion_matrix, ConfusionMatrixDisplay\n",
    "import matplotlib.pyplot as plt\n",
    "\n",
    "# Logistic Regression predictions\n",
    "y_pred_logit = logit_model.predict(X_test)\n",
    "\n",
    "# Confusion matrix for Logistic Regression\n",
    "cm_logit = confusion_matrix(y_test, y_pred_logit)\n",
    "disp_logit = ConfusionMatrixDisplay(confusion_matrix=cm_logit, display_labels=[0, 1])\n",
    "disp_logit.plot()\n",
    "plt.title(\"Confusion Matrix: Logistic Regression\")\n",
    "plt.show()\n",
    "\n",
    "# Naive Bayes predictions\n",
    "y_pred_nb = nb_model.predict(X_test)\n",
    "\n",
    "# Confusion matrix for Naive Bayes\n",
    "cm_nb = confusion_matrix(y_test, y_pred_nb)\n",
    "disp_nb = ConfusionMatrixDisplay(confusion_matrix=cm_nb, display_labels=[0, 1])\n",
    "disp_nb.plot()\n",
    "plt.title(\"Confusion Matrix: Naive Bayes\")\n",
    "plt.show()\n"
   ]
  },
  {
   "cell_type": "markdown",
   "metadata": {},
   "source": [
    "## Model Predictions and Results\n",
    "\n",
    "### Overview\n",
    "This notebook uses **TF-IDF (Term Frequency-Inverse Document Frequency)** to transform text data into numerical features suitable for machine learning models. Two models were implemented to classify text data:\n",
    "\n",
    "1. **Logistic Regression**: A linear model for binary classification that predicts the probability of a text belonging to a specific class.\n",
    "2. **Naive Bayes**: A probabilistic model based on Bayes' theorem that assumes feature independence.\n",
    "\n",
    "### What the Model is Predicting\n",
    "The models aim to classify the text data into two categories:\n",
    "- **Class 0**: Represents fake news (e.g., incorrect or misleading information).\n",
    "- **Class 1**: Represents true news (e.g., accurate and verified information).\n",
    "\n",
    "### Results\n",
    "#### Logistic Regression:\n",
    "- **Accuracy**: 99.26%\n",
    "- **Precision**:\n",
    "  - Class 0: 1.00\n",
    "  - Class 1: 0.99\n",
    "- **Recall**:\n",
    "  - Class 0: 0.99\n",
    "  - Class 1: 1.00\n",
    "- **F1-Score**: 0.99 for both classes\n",
    "\n",
    "The Logistic Regression model demonstrates high accuracy and balanced performance across both classes, indicating it effectively distinguishes between true and fake news.\n",
    "\n",
    "#### Naive Bayes:\n",
    "- **Accuracy**: `93.80%` - This indicates that the model correctly classified 93.80% of the examples in the test dataset.\n",
    "- **Precision**: Measures the proportion of true positive predictions for each class:\n",
    "  - Class `0`: `0.94`\n",
    "  - Class `1`: `0.94`\n",
    "- **Recall**: Measures the proportion of actual positives correctly predicted:\n",
    "  - Class `0`: `0.94`\n",
    "  - Class `1`: `0.93`\n",
    "- **F1-Score**: The harmonic mean of precision and recall:\n",
    "  - Class `0`: `0.94`\n",
    "  - Class `1`: `0.94`\n",
    "\n",
    "### Insights\n",
    "The high accuracy and strong performance metrics of the Logistic Regression model indicate its effectiveness in classifying the text data. Below the models are further evaluated using ROC_AUC, Cross-Validation, and Observing the Learning Curve\n",
    "\"\"\""
   ]
  },
  {
   "cell_type": "code",
   "execution_count": 23,
   "metadata": {},
   "outputs": [
    {
     "name": "stdout",
     "output_type": "stream",
     "text": [
      "Logistic Regression - Training Accuracy: 0.9942089856179204\n",
      "Logistic Regression - Test Accuracy: 0.9925760950259837\n"
     ]
    }
   ],
   "source": [
    "# Evaluation on training set to test for overfitting\n",
    "train_accuracy_logit = logit_model.score(X_train, y_train)\n",
    "test_accuracy_logit = logit_model.score(X_test, y_test)\n",
    "\n",
    "print(\"Logistic Regression - Training Accuracy:\", train_accuracy_logit)\n",
    "print(\"Logistic Regression - Test Accuracy:\", test_accuracy_logit)"
   ]
  },
  {
   "cell_type": "code",
   "execution_count": 24,
   "metadata": {},
   "outputs": [
    {
     "name": "stdout",
     "output_type": "stream",
     "text": [
      "Logistic Regression ROC-AUC Score: 0.9995487734462501\n"
     ]
    },
    {
     "data": {
      "image/png": "[encoded data removed]",
      "text/plain": [
       "<Figure size 640x480 with 1 Axes>"
      ]
     },
     "metadata": {},
     "output_type": "display_data"
    },
    {
     "ename": "NameError",
     "evalue": "name 'cross_val_score' is not defined",
     "output_type": "error",
     "traceback": [
      "\u001b[1;31m---------------------------------------------------------------------------\u001b[0m",
      "\u001b[1;31mNameError\u001b[0m                                 Traceback (most recent call last)",
      "Cell \u001b[1;32mIn[24], line 20\u001b[0m\n\u001b[0;32m     17\u001b[0m plt\u001b[38;5;241m.\u001b[39mshow()\n\u001b[0;32m     19\u001b[0m \u001b[38;5;66;03m# Cross-Validation\u001b[39;00m\n\u001b[1;32m---> 20\u001b[0m cv_scores_logit \u001b[38;5;241m=\u001b[39m cross_val_score(logit_model, X_tfidf, y, cv\u001b[38;5;241m=\u001b[39m\u001b[38;5;241m5\u001b[39m, scoring\u001b[38;5;241m=\u001b[39m\u001b[38;5;124m'\u001b[39m\u001b[38;5;124maccuracy\u001b[39m\u001b[38;5;124m'\u001b[39m)\n\u001b[0;32m     21\u001b[0m \u001b[38;5;28mprint\u001b[39m(\u001b[38;5;124m\"\u001b[39m\u001b[38;5;124mLogistic Regression Cross-Validation Scores:\u001b[39m\u001b[38;5;124m\"\u001b[39m, cv_scores_logit)\n\u001b[0;32m     22\u001b[0m \u001b[38;5;28mprint\u001b[39m(\u001b[38;5;124m\"\u001b[39m\u001b[38;5;124mMean CV Accuracy:\u001b[39m\u001b[38;5;124m\"\u001b[39m, cv_scores_logit\u001b[38;5;241m.\u001b[39mmean())\n",
      "\u001b[1;31mNameError\u001b[0m: name 'cross_val_score' is not defined"
     ]
    }
   ],
   "source": [
    "from sklearn.metrics import roc_auc_score, roc_curve\n",
    "\n",
    "# Calculate ROC-AUC\n",
    "y_proba_logit = logit_model.predict_proba(X_test)[:, 1]\n",
    "roc_auc_logit = roc_auc_score(y_test, y_proba_logit)\n",
    "print(\"Logistic Regression ROC-AUC Score:\", roc_auc_logit)\n",
    "\n",
    "# Plot ROC Curve\n",
    "fpr, tpr, _ = roc_curve(y_test, y_proba_logit)\n",
    "plt.figure()\n",
    "plt.plot(fpr, tpr, label=f\"Logistic Regression (AUC = {roc_auc_logit:.2f})\")\n",
    "plt.plot([0, 1], [0, 1], linestyle='--', color='gray')\n",
    "plt.xlabel(\"False Positive Rate\")\n",
    "plt.ylabel(\"True Positive Rate\")\n",
    "plt.title(\"ROC Curve: Logistic Regression\")\n",
    "plt.legend()\n",
    "plt.show()\n",
    "\n",
    "# Cross-Validation\n",
    "cv_scores_logit = cross_val_score(logit_model, X_tfidf, y, cv=5, scoring='accuracy')\n",
    "print(\"Logistic Regression Cross-Validation Scores:\", cv_scores_logit)\n",
    "print(\"Mean CV Accuracy:\", cv_scores_logit.mean())\n",
    "\n",
    "# Learning Curve\n",
    "train_sizes, train_scores, test_scores = learning_curve(\n",
    "    logit_model, X_tfidf, y, cv=5, scoring='accuracy', train_sizes=np.linspace(0.1, 1.0, 10)\n",
    ")\n",
    "\n",
    "# Calculate means\n",
    "train_scores_mean = train_scores.mean(axis=1)\n",
    "test_scores_mean = test_scores.mean(axis=1)\n",
    "\n",
    "# Plot the learning curve\n",
    "plt.figure()\n",
    "plt.plot(train_sizes, train_scores_mean, label=\"Training Score\")\n",
    "plt.plot(train_sizes, test_scores_mean, label=\"Validation Score\")\n",
    "plt.xlabel(\"Training Size\")\n",
    "plt.ylabel(\"Accuracy\")\n",
    "plt.title(\"Learning Curve: Logistic Regression\")\n",
    "plt.legend()\n",
    "plt.show()"
   ]
  },
  {
   "cell_type": "code",
   "execution_count": 25,
   "metadata": {},
   "outputs": [
    {
     "name": "stdout",
     "output_type": "stream",
     "text": [
      "Naive Bayes - Training Accuracy: 0.9403080056001019\n",
      "Naive Bayes - Test Accuracy: 0.9380103934669636\n"
     ]
    }
   ],
   "source": [
    "# Evaluation on training set to test for overfitting\n",
    "train_accuracy_logit = nb_model.score(X_train, y_train)\n",
    "test_accuracy_logit = nb_model.score(X_test, y_test)\n",
    "\n",
    "print(\"Naive Bayes - Training Accuracy:\", train_accuracy_logit)\n",
    "print(\"Naive Bayes - Test Accuracy:\", test_accuracy_logit)"
   ]
  },
  {
   "cell_type": "code",
   "execution_count": 27,
   "metadata": {},
   "outputs": [
    {
     "name": "stdout",
     "output_type": "stream",
     "text": [
      "Naive Bayes ROC-AUC Score: 0.9828200959708121\n"
     ]
    },
    {
     "data": {
      "image/png": "[encoded data removed]",
      "text/plain": [
       "<Figure size 640x480 with 1 Axes>"
      ]
     },
     "metadata": {},
     "output_type": "display_data"
    },
    {
     "ename": "NameError",
     "evalue": "name 'cross_val_score' is not defined",
     "output_type": "error",
     "traceback": [
      "\u001b[1;31m---------------------------------------------------------------------------\u001b[0m",
      "\u001b[1;31mNameError\u001b[0m                                 Traceback (most recent call last)",
      "Cell \u001b[1;32mIn[27], line 20\u001b[0m\n\u001b[0;32m     17\u001b[0m plt\u001b[38;5;241m.\u001b[39mshow()\n\u001b[0;32m     19\u001b[0m \u001b[38;5;66;03m# Cross-Validation\u001b[39;00m\n\u001b[1;32m---> 20\u001b[0m cv_scores_nb \u001b[38;5;241m=\u001b[39m cross_val_score(nb_model, X_tfidf, y, cv\u001b[38;5;241m=\u001b[39m\u001b[38;5;241m5\u001b[39m, scoring\u001b[38;5;241m=\u001b[39m\u001b[38;5;124m'\u001b[39m\u001b[38;5;124maccuracy\u001b[39m\u001b[38;5;124m'\u001b[39m)\n\u001b[0;32m     21\u001b[0m \u001b[38;5;28mprint\u001b[39m(\u001b[38;5;124m\"\u001b[39m\u001b[38;5;124mNaive Bayes Cross-Validation Scores:\u001b[39m\u001b[38;5;124m\"\u001b[39m, cv_scores_nb)\n\u001b[0;32m     22\u001b[0m \u001b[38;5;28mprint\u001b[39m(\u001b[38;5;124m\"\u001b[39m\u001b[38;5;124mMean CV Accuracy:\u001b[39m\u001b[38;5;124m\"\u001b[39m, cv_scores_nb\u001b[38;5;241m.\u001b[39mmean())\n",
      "\u001b[1;31mNameError\u001b[0m: name 'cross_val_score' is not defined"
     ]
    }
   ],
   "source": [
    "from sklearn.metrics import roc_auc_score, roc_curve\n",
    "\n",
    "# Calculate ROC-AUC\n",
    "y_proba_nb = nb_model.predict_proba(X_test)[:, 1]\n",
    "roc_auc_nb = roc_auc_score(y_test, y_proba_nb)\n",
    "print(\"Naive Bayes ROC-AUC Score:\", roc_auc_nb)\n",
    "\n",
    "# Plot ROC Curve\n",
    "fpr, tpr, _ = roc_curve(y_test, y_proba_nb)\n",
    "plt.figure()\n",
    "plt.plot(fpr, tpr, label=f\"Naive Bayes (AUC = {roc_auc_nb:.2f})\")\n",
    "plt.plot([0, 1], [0, 1], linestyle='--', color='gray')\n",
    "plt.xlabel(\"False Positive Rate\")\n",
    "plt.ylabel(\"True Positive Rate\")\n",
    "plt.title(\"ROC Curve: Naive Bayes\")\n",
    "plt.legend()\n",
    "plt.show()\n",
    "\n",
    "# Cross-Validation\n",
    "cv_scores_nb = cross_val_score(nb_model, X_tfidf, y, cv=5, scoring='accuracy')\n",
    "print(\"Naive Bayes Cross-Validation Scores:\", cv_scores_nb)\n",
    "print(\"Mean CV Accuracy:\", cv_scores_nb.mean())\n",
    "\n",
    "# Learning Curve\n",
    "train_sizes, train_scores, test_scores = learning_curve(\n",
    "    nb_model, X_tfidf, y, cv=5, scoring='accuracy', train_sizes=np.linspace(0.1, 1.0, 10)\n",
    ")\n",
    "\n",
    "# Calculate means\n",
    "train_scores_mean = train_scores.mean(axis=1)\n",
    "test_scores_mean = test_scores.mean(axis=1)\n",
    "\n",
    "# Plot the learning curve\n",
    "plt.figure()\n",
    "plt.plot(train_sizes, train_scores_mean, label=\"Training Score\")\n",
    "plt.plot(train_sizes, test_scores_mean, label=\"Validation Score\")\n",
    "plt.xlabel(\"Training Size\")\n",
    "plt.ylabel(\"Accuracy\")\n",
    "plt.title(\"Learning Curve: Naive Bayes\")\n",
    "plt.legend()\n",
    "plt.show()"
   ]
  },
  {
   "cell_type": "markdown",
   "metadata": {},
   "source": [
    "## Detailed Evaluation Metrics: Naive Bayes and Logistic Regression\n",
    "\n",
    "### 1. **ROC-AUC (Receiver Operating Characteristic - Area Under Curve)**\n",
    "The ROC-AUC score measures the model's ability to distinguish between the two classes (True and Fake). It plots the True Positive Rate (Sensitivity) against the False Positive Rate at various thresholds.\n",
    "\n",
    "- A **higher AUC score** (closer to 1) indicates better performance.\n",
    "- The **ROC curve** provides insight into the model's behavior at different classification thresholds.\n",
    "\n",
    "**Interpretation**: \n",
    "- Logistic Regression is expected to have a higher ROC-AUC than Naive Bayes, reflecting its strength in modeling probabilities.\n",
    "\n",
    "### 2. **Cross-Validation**\n",
    "Cross-validation divides the dataset into multiple subsets (folds) and trains the model on different splits, providing a more robust measure of performance.\n",
    "\n",
    "- It helps to detect **overfitting** or **underfitting** by assessing the consistency of model performance across folds.\n",
    "- Mean cross-validation accuracy gives an overall performance estimate.\n",
    "\n",
    "**Implementation**:\n",
    "- A 5-fold cross-validation was used to evaluate both models, calculating accuracy on each fold.\n",
    "\n",
    "**Key Takeaway**: \n",
    "- Both models performed consistently across folds, but Logistic Regression showed slightly higher and more stable results.\n",
    "\n",
    "### 3. **Learning Curve**\n",
    "The learning curve plots model performance (training and validation accuracy) against the size of the training dataset.\n",
    "\n",
    "- A **converging curve** with minimal gap between training and validation accuracy indicates a well-fit model.\n",
    "- A **large gap** suggests overfitting, while **low accuracy overall** suggests underfitting.\n",
    "\n",
    "**Insights from the Learning Curves**:\n",
    "- Logistic Regression demonstrated a steady improvement with more data, converging at high accuracy levels.\n",
    "- Naive Bayes showed slightly lower validation accuracy but still maintained consistent performance.\n",
    "\n",
    "### Summary of Observations\n",
    "- **Logistic Regression**: \n",
    "  - Higher ROC-AUC, indicating strong discriminative power.\n",
    "  - More robust cross-validation scores.\n",
    "  - Learning curve indicates the model is neither overfitting nor underfitting.\n",
    "\n",
    "- **Naive Bayes**: \n",
    "  - Slightly lower ROC-AUC and cross-validation scores compared to Logistic Regression.\n",
    "  - Learning curve suggests consistent performance but less adaptability to complex patterns.\n",
    "\n",
    "Both models are effective, but Logistic Regression outperforms Naive Bayes for this classification task, especially with more data and complex relationships.\n",
    "\n"
   ]
  },
  {
   "cell_type": "markdown",
   "metadata": {},
   "source": [
    "## LSTM"
   ]
  },
  {
   "cell_type": "code",
   "execution_count": null,
   "metadata": {},
   "outputs": [
    {
     "name": "stdout",
     "output_type": "stream",
     "text": [
      "Epoch 1/5\n"
     ]
    },
    {
     "name": "stderr",
     "output_type": "stream",
     "text": [
      "E:\\anaconda3\\Lib\\site-packages\\keras\\src\\layers\\core\\embedding.py:90: UserWarning: Argument `input_length` is deprecated. Just remove it.\n",
      "  warnings.warn(\n"
     ]
    },
    {
     "name": "stdout",
     "output_type": "stream",
     "text": [
      "\u001b[1m 537/1123\u001b[0m \u001b[32m━━━━━━━━━\u001b[0m\u001b[37m━━━━━━━━━━━\u001b[0m \u001b[1m1:03\u001b[0m 108ms/step - accuracy: 0.8057 - loss: 0.4541"
     ]
    }
   ],
   "source": [
    "X = df_combined['text']\n",
    "y = df_combined['True/Fake']\n",
    "\n",
    "X_train, X_test, y_train, y_test = train_test_split(X, y, test_size=0.2, random_state=42)\n",
    "\n",
    "tokenizer = Tokenizer()\n",
    "tokenizer.fit_on_texts(X_train)\n",
    "X_train_seq = tokenizer.texts_to_sequences(X_train)\n",
    "X_test_seq = tokenizer.texts_to_sequences(X_test)\n",
    "\n",
    "vocab_size = len(tokenizer.word_index) + 1\n",
    "X_train_padded = pad_sequences(X_train_seq, padding='post', maxlen=200)\n",
    "X_test_padded = pad_sequences(X_test_seq, padding='post', maxlen=200)\n",
    "\n",
    "model = Sequential([\n",
    "    Embedding(input_dim=vocab_size, output_dim=64, input_length=200),\n",
    "    LSTM(128, return_sequences=False),\n",
    "    Dense(1, activation='sigmoid')\n",
    "])\n",
    "\n",
    "model.compile(optimizer='adam', loss='binary_crossentropy', metrics=['accuracy'])\n",
    "\n",
    "\n",
    "history = model.fit(X_train_padded, y_train, epochs=5, batch_size=32, validation_data=(X_test_padded, y_test), verbose=1)\n",
    "\n",
    "loss, accuracy = model.evaluate(X_test_padded, y_test)\n",
    "print(f\"Test Accuracy: {accuracy}\")\n",
    "\n",
    "model.save('lstm_true_fake_model.h5')"
   ]
  },
  {
   "cell_type": "code",
   "execution_count": null,
   "metadata": {},
   "outputs": [],
   "source": [
    "model = load_model('lstm_true_fake_model.h5')\n",
    "y_pred = (model.predict(X_test_padded) > 0.5).astype(\"int32\")\n",
    "\n",
    "conf_matrix = confusion_matrix(y_test, y_pred)\n",
    "print(\"Confusion Matrix:\")\n",
    "print(conf_matrix)\n",
    "\n",
    "print(\"\\nClassification Report:\")\n",
    "print(classification_report(y_test, y_pred))"
   ]
  },
  {
   "cell_type": "code",
   "execution_count": null,
   "metadata": {},
   "outputs": [],
   "source": [
    "import matplotlib.pyplot as plt\n",
    "\n",
    "plt.plot(history.history['accuracy'], label='Training Accuracy')\n",
    "plt.plot(history.history['val_accuracy'], label='Validation Accuracy')\n",
    "plt.legend()\n",
    "plt.title('Accuracy Comparison')\n",
    "plt.show()\n",
    "\n",
    "plt.plot(history.history['loss'], label='Training Loss')\n",
    "plt.plot(history.history['val_loss'], label='Validation Loss')\n",
    "plt.legend()\n",
    "plt.title('Loss Comparison')\n",
    "plt.show()\n"
   ]
  },
  {
   "cell_type": "code",
   "execution_count": null,
   "metadata": {},
   "outputs": [],
   "source": [
    "# AUC\n",
    "auc = roc_auc_score(y_test, y_pred)\n",
    "print(f\"AUC: {auc:.2f}\")\n",
    "\n",
    "# Plot ROC Curve\n",
    "fpr, tpr, thresholds = roc_curve(y_test, y_pred)\n",
    "plt.figure()\n",
    "plt.plot(fpr, tpr, label=f\"ROC Curve (AUC = {auc:.2f})\")\n",
    "plt.xlabel(\"False Positive Rate\")\n",
    "plt.ylabel(\"True Positive Rate\")\n",
    "plt.title(\"Receiver Operating Characteristic (ROC) Curve\")\n",
    "plt.legend(loc=\"best\")\n",
    "plt.grid()\n",
    "plt.show()"
   ]
  },
  {
   "cell_type": "markdown",
   "metadata": {},
   "source": [
    "## Detailed Evaluation Metrics: LSTM Model\n",
    "### 1. Improvement in Accuracy and Loss\n",
    "- Training Accuracy: Increases from 81.34% (Epoch 1) to 98.35% (Epoch 5).\n",
    "- Validation Accuracy: Improves from 89.29% (Epoch 1) to 98.44% (Epoch 5).\n",
    "- Training Loss: Decreases significantly from 0.4468 to 0.0533, indicating that the model is learning effectively.\n",
    "- Validation Loss: Reduces from 0.2168 to 0.0504, which is consistent with improved validation accuracy.\n",
    "### 2. Generalization\n",
    "- The gap between training accuracy (98.35%) and validation accuracy (98.44%) by the final epoch is very small.\n",
    "- The model generalizes well, showing no significant overfitting or underfitting.\n",
    "- Both training loss and validation loss decrease together, indicating that the model isn't memorizing the training data excessively.\n",
    "### 3. Model Performance\n",
    "- Test Accuracy: 98.37%, which is consistent with the validation accuracy (98.44%).\n",
    "- The model's performance on unseen data is robust and matches the validation performance closely, further validating its generalization capabilities.\n",
    "### 4. Summary of Observations\n",
    "- The model achieves excellent results with a test accuracy of 98.37% and low test loss (0.0536).\n",
    "- Minimal gap between training and validation metrics.\n",
    "- High performance achieved in just 5 epochs."
   ]
  },
  {
   "cell_type": "code",
   "execution_count": null,
   "metadata": {},
   "outputs": [],
   "source": []
  }
 ],
 "metadata": {
  "kernelspec": {
   "display_name": "Python 3 (ipykernel)",
   "language": "python",
   "name": "python3"
  },
  "language_info": {
   "codemirror_mode": {
    "name": "ipython",
    "version": 3
   },
   "file_extension": ".py",
   "mimetype": "text/x-python",
   "name": "python",
   "nbconvert_exporter": "python",
   "pygments_lexer": "ipython3",
   "version": "3.12.4"
  }
 },
 "nbformat": 4,
 "nbformat_minor": 4
}
